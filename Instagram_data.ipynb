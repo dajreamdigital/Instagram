{
 "cells": [
  {
   "cell_type": "code",
   "execution_count": 7,
   "metadata": {
    "collapsed": false
   },
   "outputs": [
    {
     "data": {
      "text/plain": [
       "[u'username',\n",
       " u'country_block',\n",
       " u'connected_fb_page',\n",
       " u'blocked_by_viewer',\n",
       " u'media',\n",
       " u'requested_by_viewer',\n",
       " u'followed_by',\n",
       " u'external_url_linkshimmed',\n",
       " u'has_requested_viewer',\n",
       " u'profile_pic_url_hd',\n",
       " u'follows_viewer',\n",
       " u'profile_pic_url',\n",
       " u'is_private',\n",
       " u'full_name',\n",
       " u'follows',\n",
       " u'has_blocked_viewer',\n",
       " u'followed_by_viewer',\n",
       " u'is_verified',\n",
       " u'id',\n",
       " u'biography',\n",
       " u'external_url']"
      ]
     },
     "execution_count": 7,
     "metadata": {},
     "output_type": "execute_result"
    }
   ],
   "source": [
    "import requests \n",
    "import json \n",
    "from bs4 import BeautifulSoup \n",
    "\n",
    "\n",
    "r = requests.get(\"https://www.instagram.com/fredwilson/?hl=en\") \n",
    "soup = BeautifulSoup(r.content, 'html.parser') \n",
    "script = soup.find_all('script')[6].string\n",
    "script_data = json.loads(script[21:-1]) \n",
    "user_data = script_data[\"entry_data\"][\"ProfilePage\"][0][\"user\"]\n",
    "list(user_data)"
   ]
  },
  {
   "cell_type": "code",
   "execution_count": 5,
   "metadata": {
    "collapsed": false
   },
   "outputs": [
    {
     "name": "stdout",
     "output_type": "stream",
     "text": [
      "{'username': [u'sacca'], 'follows': [248], 'followed_by': [38148], 'posts': [310], 'full_name': [u'Chris Sacca'], 'is_private': [False]}\n",
      "{'username': [u'sacca', u'jim.goetz'], 'follows': [248, 1502], 'followed_by': [38148, 222], 'posts': [310, 12], 'full_name': [u'Chris Sacca', u'Jim Goetz'], 'is_private': [False, False]}\n",
      "{'username': [u'sacca', u'jim.goetz', u'jimihendrixlive'], 'follows': [248, 1502, 1483], 'followed_by': [38148, 222, 547], 'posts': [310, 12, 184], 'full_name': [u'Chris Sacca', u'Jim Goetz', u'Jim Breyer'], 'is_private': [False, False, True]}\n",
      "{'username': [u'sacca', u'jim.goetz', u'jimihendrixlive', u'mattcohler'], 'follows': [248, 1502, 1483, 220], 'followed_by': [38148, 222, 547, 2302], 'posts': [310, 12, 184, 128], 'full_name': [u'Chris Sacca', u'Jim Goetz', u'Jim Breyer', u'Matt Cohler'], 'is_private': [False, False, True, True]}\n",
      "{'username': [u'sacca', u'jim.goetz', u'jimihendrixlive', u'mattcohler', u'bijan'], 'follows': [248, 1502, 1483, 220, 251], 'followed_by': [38148, 222, 547, 2302, 8998], 'posts': [310, 12, 184, 128, 635], 'full_name': [u'Chris Sacca', u'Jim Goetz', u'Jim Breyer', u'Matt Cohler', u'Bijan Sabet'], 'is_private': [False, False, True, True, False]}\n",
      "{'username': [u'sacca', u'jim.goetz', u'jimihendrixlive', u'mattcohler', u'bijan', u'toddchaffee'], 'follows': [248, 1502, 1483, 220, 251, 485], 'followed_by': [38148, 222, 547, 2302, 8998, 15384], 'posts': [310, 12, 184, 128, 635, 782], 'full_name': [u'Chris Sacca', u'Jim Goetz', u'Jim Breyer', u'Matt Cohler', u'Bijan Sabet', u'Todd Chaffee'], 'is_private': [False, False, True, True, False, False]}\n",
      "{'username': [u'sacca', u'jim.goetz', u'jimihendrixlive', u'mattcohler', u'bijan', u'toddchaffee', u'sa1i1'], 'follows': [248, 1502, 1483, 220, 251, 485, 244], 'followed_by': [38148, 222, 547, 2302, 8998, 15384, 240], 'posts': [310, 12, 184, 128, 635, 782, 160], 'full_name': [u'Chris Sacca', u'Jim Goetz', u'Jim Breyer', u'Matt Cohler', u'Bijan Sabet', u'Todd Chaffee', u'Salil Deshpande'], 'is_private': [False, False, True, True, False, False, False]}\n",
      "{'username': [u'sacca', u'jim.goetz', u'jimihendrixlive', u'mattcohler', u'bijan', u'toddchaffee', u'sa1i1', u'jeremysliew'], 'follows': [248, 1502, 1483, 220, 251, 485, 244, 706], 'followed_by': [38148, 222, 547, 2302, 8998, 15384, 240, 423], 'posts': [310, 12, 184, 128, 635, 782, 160, 7], 'full_name': [u'Chris Sacca', u'Jim Goetz', u'Jim Breyer', u'Matt Cohler', u'Bijan Sabet', u'Todd Chaffee', u'Salil Deshpande', u'Jeremy Liew'], 'is_private': [False, False, True, True, False, False, False, False]}\n",
      "{'username': [u'sacca', u'jim.goetz', u'jimihendrixlive', u'mattcohler', u'bijan', u'toddchaffee', u'sa1i1', u'jeremysliew', u'jdoerr'], 'follows': [248, 1502, 1483, 220, 251, 485, 244, 706, 54], 'followed_by': [38148, 222, 547, 2302, 8998, 15384, 240, 423, 300], 'posts': [310, 12, 184, 128, 635, 782, 160, 7, 73], 'full_name': [u'Chris Sacca', u'Jim Goetz', u'Jim Breyer', u'Matt Cohler', u'Bijan Sabet', u'Todd Chaffee', u'Salil Deshpande', u'Jeremy Liew', u'John Doerr'], 'is_private': [False, False, True, True, False, False, False, False, True]}\n",
      "{'username': [u'sacca', u'jim.goetz', u'jimihendrixlive', u'mattcohler', u'bijan', u'toddchaffee', u'sa1i1', u'jeremysliew', u'jdoerr', u'neilr'], 'follows': [248, 1502, 1483, 220, 251, 485, 244, 706, 54, 30], 'followed_by': [38148, 222, 547, 2302, 8998, 15384, 240, 423, 300, 131], 'posts': [310, 12, 184, 128, 635, 782, 160, 7, 73, 5], 'full_name': [u'Chris Sacca', u'Jim Goetz', u'Jim Breyer', u'Matt Cohler', u'Bijan Sabet', u'Todd Chaffee', u'Salil Deshpande', u'Jeremy Liew', u'John Doerr', u'Neil Rimer'], 'is_private': [False, False, True, True, False, False, False, False, True, True]}\n",
      "{'username': [u'sacca', u'jim.goetz', u'jimihendrixlive', u'mattcohler', u'bijan', u'toddchaffee', u'sa1i1', u'jeremysliew', u'jdoerr', u'neilr', u'satishd'], 'follows': [248, 1502, 1483, 220, 251, 485, 244, 706, 54, 30, 60], 'followed_by': [38148, 222, 547, 2302, 8998, 15384, 240, 423, 300, 131, 251], 'posts': [310, 12, 184, 128, 635, 782, 160, 7, 73, 5, 23], 'full_name': [u'Chris Sacca', u'Jim Goetz', u'Jim Breyer', u'Matt Cohler', u'Bijan Sabet', u'Todd Chaffee', u'Salil Deshpande', u'Jeremy Liew', u'John Doerr', u'Neil Rimer', u'Satish Dharmaraj'], 'is_private': [False, False, True, True, False, False, False, False, True, True, False]}\n"
     ]
    }
   ],
   "source": [
    "instagram = {\"username\":[], 'posts':[], 'followed_by':[],'is_private':[],'full_name':[], 'follows':[]}\n",
    "\n",
    "List = (\"https://www.instagram.com/sacca/?hl=en\",\n",
    "        \"https://www.instagram.com/jim.goetz/\",\n",
    "        \"https://www.instagram.com/jimihendrixlive/\",\n",
    "       \"https://www.instagram.com/mattcohler/\",\n",
    "       \"https://www.instagram.com/bijan/?hl=en\",\n",
    "       \"https://www.instagram.com/toddchaffee/?hl=en\",\n",
    "       \"https://www.instagram.com/sa1i1/\",\n",
    "        \"https://www.instagram.com/jeremysliew/\",\n",
    "        \"https://www.instagram.com/jdoerr/\",\n",
    "        \"https://www.instagram.com/neilr/\",\n",
    "        \"https://www.instagram.com/satishd/\"\n",
    "       )\n",
    "\n",
    "def instagram_data(): \n",
    "    for vc in List:\n",
    "        r = requests.get(vc)\n",
    "        soup = BeautifulSoup(r.content, 'html.parser')\n",
    "        script = soup.find_all('script')[6].string\n",
    "        script_data = json.loads(script[21:-1]) \n",
    "        user_data = script_data[\"entry_data\"][\"ProfilePage\"][0][\"user\"]\n",
    "        for x in user_data:\n",
    "            if x == 'full_name':\n",
    "                instagram['full_name'].append(user_data[x])\n",
    "            elif x == 'media':\n",
    "                instagram['posts'].append((user_data[x]['count']))\n",
    "            elif  x == \"username\":\n",
    "                instagram['username'].append(user_data[x])\n",
    "            elif x == \"follows\" :\n",
    "                instagram['follows'].append((user_data[x]['count']))\n",
    "            elif x == \"followed_by\":\n",
    "                instagram['followed_by'].append((user_data[x]['count'] ))\n",
    "            elif x == \"is_private\":\n",
    "                instagram[\"is_private\"].append(user_data[x])\n",
    "        print instagram\n",
    "\n",
    "    \n",
    "instagram_data()\n",
    "        "
   ]
  },
  {
   "cell_type": "code",
   "execution_count": 6,
   "metadata": {
    "collapsed": false
   },
   "outputs": [
    {
     "data": {
      "text/html": [
       "<div>\n",
       "<table border=\"1\" class=\"dataframe\">\n",
       "  <thead>\n",
       "    <tr style=\"text-align: right;\">\n",
       "      <th></th>\n",
       "      <th>followed_by</th>\n",
       "      <th>follows</th>\n",
       "      <th>full_name</th>\n",
       "      <th>is_private</th>\n",
       "      <th>posts</th>\n",
       "      <th>username</th>\n",
       "    </tr>\n",
       "  </thead>\n",
       "  <tbody>\n",
       "    <tr>\n",
       "      <th>0</th>\n",
       "      <td>38148</td>\n",
       "      <td>248</td>\n",
       "      <td>Chris Sacca</td>\n",
       "      <td>False</td>\n",
       "      <td>310</td>\n",
       "      <td>sacca</td>\n",
       "    </tr>\n",
       "    <tr>\n",
       "      <th>1</th>\n",
       "      <td>222</td>\n",
       "      <td>1502</td>\n",
       "      <td>Jim Goetz</td>\n",
       "      <td>False</td>\n",
       "      <td>12</td>\n",
       "      <td>jim.goetz</td>\n",
       "    </tr>\n",
       "    <tr>\n",
       "      <th>2</th>\n",
       "      <td>547</td>\n",
       "      <td>1483</td>\n",
       "      <td>Jim Breyer</td>\n",
       "      <td>True</td>\n",
       "      <td>184</td>\n",
       "      <td>jimihendrixlive</td>\n",
       "    </tr>\n",
       "    <tr>\n",
       "      <th>3</th>\n",
       "      <td>2302</td>\n",
       "      <td>220</td>\n",
       "      <td>Matt Cohler</td>\n",
       "      <td>True</td>\n",
       "      <td>128</td>\n",
       "      <td>mattcohler</td>\n",
       "    </tr>\n",
       "    <tr>\n",
       "      <th>4</th>\n",
       "      <td>8998</td>\n",
       "      <td>251</td>\n",
       "      <td>Bijan Sabet</td>\n",
       "      <td>False</td>\n",
       "      <td>635</td>\n",
       "      <td>bijan</td>\n",
       "    </tr>\n",
       "    <tr>\n",
       "      <th>5</th>\n",
       "      <td>15384</td>\n",
       "      <td>485</td>\n",
       "      <td>Todd Chaffee</td>\n",
       "      <td>False</td>\n",
       "      <td>782</td>\n",
       "      <td>toddchaffee</td>\n",
       "    </tr>\n",
       "    <tr>\n",
       "      <th>6</th>\n",
       "      <td>240</td>\n",
       "      <td>244</td>\n",
       "      <td>Salil Deshpande</td>\n",
       "      <td>False</td>\n",
       "      <td>160</td>\n",
       "      <td>sa1i1</td>\n",
       "    </tr>\n",
       "    <tr>\n",
       "      <th>7</th>\n",
       "      <td>423</td>\n",
       "      <td>706</td>\n",
       "      <td>Jeremy Liew</td>\n",
       "      <td>False</td>\n",
       "      <td>7</td>\n",
       "      <td>jeremysliew</td>\n",
       "    </tr>\n",
       "    <tr>\n",
       "      <th>8</th>\n",
       "      <td>300</td>\n",
       "      <td>54</td>\n",
       "      <td>John Doerr</td>\n",
       "      <td>True</td>\n",
       "      <td>73</td>\n",
       "      <td>jdoerr</td>\n",
       "    </tr>\n",
       "    <tr>\n",
       "      <th>9</th>\n",
       "      <td>131</td>\n",
       "      <td>30</td>\n",
       "      <td>Neil Rimer</td>\n",
       "      <td>True</td>\n",
       "      <td>5</td>\n",
       "      <td>neilr</td>\n",
       "    </tr>\n",
       "    <tr>\n",
       "      <th>10</th>\n",
       "      <td>251</td>\n",
       "      <td>60</td>\n",
       "      <td>Satish Dharmaraj</td>\n",
       "      <td>False</td>\n",
       "      <td>23</td>\n",
       "      <td>satishd</td>\n",
       "    </tr>\n",
       "  </tbody>\n",
       "</table>\n",
       "</div>"
      ],
      "text/plain": [
       "    followed_by  follows         full_name is_private  posts         username\n",
       "0         38148      248       Chris Sacca      False    310            sacca\n",
       "1           222     1502         Jim Goetz      False     12        jim.goetz\n",
       "2           547     1483        Jim Breyer       True    184  jimihendrixlive\n",
       "3          2302      220       Matt Cohler       True    128       mattcohler\n",
       "4          8998      251       Bijan Sabet      False    635            bijan\n",
       "5         15384      485      Todd Chaffee      False    782      toddchaffee\n",
       "6           240      244   Salil Deshpande      False    160            sa1i1\n",
       "7           423      706       Jeremy Liew      False      7      jeremysliew\n",
       "8           300       54        John Doerr       True     73           jdoerr\n",
       "9           131       30        Neil Rimer       True      5            neilr\n",
       "10          251       60  Satish Dharmaraj      False     23          satishd"
      ]
     },
     "execution_count": 6,
     "metadata": {},
     "output_type": "execute_result"
    }
   ],
   "source": [
    "import pandas as pd\n",
    "instagram = pd.DataFrame(instagram)\n",
    "instagram"
   ]
  },
  {
   "cell_type": "code",
   "execution_count": null,
   "metadata": {
    "collapsed": true
   },
   "outputs": [],
   "source": []
  },
  {
   "cell_type": "code",
   "execution_count": null,
   "metadata": {
    "collapsed": true
   },
   "outputs": [],
   "source": []
  }
 ],
 "metadata": {
  "anaconda-cloud": {},
  "kernelspec": {
   "display_name": "Python [default]",
   "language": "python",
   "name": "python2"
  },
  "language_info": {
   "codemirror_mode": {
    "name": "ipython",
    "version": 2
   },
   "file_extension": ".py",
   "mimetype": "text/x-python",
   "name": "python",
   "nbconvert_exporter": "python",
   "pygments_lexer": "ipython2",
   "version": "2.7.12"
  }
 },
 "nbformat": 4,
 "nbformat_minor": 1
}
